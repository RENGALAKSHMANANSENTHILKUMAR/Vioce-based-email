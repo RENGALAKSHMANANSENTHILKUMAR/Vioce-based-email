{
 "cells": [
  {
   "cell_type": "code",
   "execution_count": 2,
   "metadata": {},
   "outputs": [],
   "source": [
    "import speech_recognition as sr\n",
    "import smtplib"
   ]
  },
  {
   "cell_type": "code",
   "execution_count": 3,
   "metadata": {},
   "outputs": [],
   "source": [
    "from bs4 import BeautifulSoup\n",
    "import email\n",
    "import imaplib\n",
    "from gtts import gTTS\n",
    "\n",
    "!! pip install PyAudio\n",
    "!! pip install pyglet\n",
    "import pyglet\n",
    "import os, time\n",
    "\n",
    "import pyttsx3\n",
    "engine = pyttsx3.init()"
   ]
  },
  {
   "cell_type": "code",
   "execution_count": 4,
   "metadata": {},
   "outputs": [],
   "source": [
    "tts = gTTS(text=\"Project: Voice based Email for blind\", lang='en')\n",
    "ttsname=r\"C:\\Users\\Rengalakshmanan S\\Voice-Based-Email-System-main\\\\name.mp3\"\n",
    "tts.save(ttsname)\n"
   ]
  },
  {
   "cell_type": "code",
   "execution_count": 5,
   "metadata": {},
   "outputs": [],
   "source": [
    "# music = pyglet.media.load(ttsname, streaming = False )\n",
    "# music.play()\n",
    "os.system(ttsname)\n",
    "# time.sleep(music.duration)\n",
    "os.remove(ttsname)"
   ]
  },
  {
   "cell_type": "code",
   "execution_count": 6,
   "metadata": {},
   "outputs": [
    {
     "name": "stdout",
     "output_type": "stream",
     "text": [
      "You are logging from : Rengalakshmanan S\n"
     ]
    }
   ],
   "source": [
    "#login from os\n",
    "login = os.getlogin\n",
    "print (\"You are logging from : \"+login())"
   ]
  },
  {
   "cell_type": "code",
   "execution_count": 7,
   "metadata": {},
   "outputs": [
    {
     "name": "stdout",
     "output_type": "stream",
     "text": [
      "1. composed a mail.\n"
     ]
    }
   ],
   "source": [
    "#choices\n",
    "print (\"1. composed a mail.\")\n",
    "tts = gTTS(text=\"option 1. composed a mail.\", lang='en')\n",
    "ttsname=(\"hello.mp3\") #Example: path -> C:\\Users\\Rengalakshmanan S\\Voice-Based-Email-System-main\n",
    "tts.save(ttsname)"
   ]
  },
  {
   "cell_type": "code",
   "execution_count": 8,
   "metadata": {},
   "outputs": [
    {
     "name": "stderr",
     "output_type": "stream",
     "text": [
      "C:\\Users\\Rengalakshmanan S\\anaconda3\\lib\\site-packages\\pyglet\\libs\\win32\\__init__.py:326: UserWarning: Could not set COM MTA mode. Unexpected behavior may occur.\n",
      "  warnings.warn(\"Could not set COM MTA mode. Unexpected behavior may occur.\")\n"
     ]
    },
    {
     "data": {
      "text/plain": [
       "<pyglet.media.player.Player at 0x1ff08e56cd0>"
      ]
     },
     "execution_count": 8,
     "metadata": {},
     "output_type": "execute_result"
    }
   ],
   "source": [
    "music = pyglet.media.load(ttsname, streaming = False)\n",
    "music.play()"
   ]
  },
  {
   "cell_type": "code",
   "execution_count": 9,
   "metadata": {},
   "outputs": [],
   "source": [
    "time.sleep(music.duration)\n",
    "os.remove(ttsname)"
   ]
  },
  {
   "cell_type": "code",
   "execution_count": 10,
   "metadata": {},
   "outputs": [
    {
     "name": "stdout",
     "output_type": "stream",
     "text": [
      "2. Check your inbox\n"
     ]
    }
   ],
   "source": [
    "print (\"2. Check your inbox\")\n",
    "tts = gTTS(text=\"option 2. Check your inbox\", lang='en')\n",
    "ttsname=(\"second.mp3\")\n",
    "tts.save(ttsname)"
   ]
  },
  {
   "cell_type": "code",
   "execution_count": 11,
   "metadata": {},
   "outputs": [
    {
     "data": {
      "text/plain": [
       "<pyglet.media.player.Player at 0x1ff0f959ee0>"
      ]
     },
     "execution_count": 11,
     "metadata": {},
     "output_type": "execute_result"
    }
   ],
   "source": [
    "music = pyglet.media.load(ttsname, streaming = False)\n",
    "music.play()"
   ]
  },
  {
   "cell_type": "code",
   "execution_count": 12,
   "metadata": {},
   "outputs": [],
   "source": [
    "time.sleep(music.duration)\n",
    "os.remove(ttsname)"
   ]
  },
  {
   "cell_type": "code",
   "execution_count": 13,
   "metadata": {},
   "outputs": [],
   "source": [
    "#this is for input choices\n",
    "tts = gTTS(text=\"Your choice \", lang='en')\n",
    "ttsname=(\"hello.mp3\") \n",
    "tts.save(ttsname)"
   ]
  },
  {
   "cell_type": "code",
   "execution_count": 14,
   "metadata": {},
   "outputs": [
    {
     "data": {
      "text/plain": [
       "<pyglet.media.player.Player at 0x1ff0facde80>"
      ]
     },
     "execution_count": 14,
     "metadata": {},
     "output_type": "execute_result"
    }
   ],
   "source": [
    "music = pyglet.media.load(ttsname, streaming = False)\n",
    "music.play()\n",
    "\n"
   ]
  },
  {
   "cell_type": "code",
   "execution_count": 15,
   "metadata": {},
   "outputs": [],
   "source": [
    "time.sleep(music.duration)\n",
    "os.remove(ttsname)"
   ]
  },
  {
   "cell_type": "code",
   "execution_count": 37,
   "metadata": {},
   "outputs": [
    {
     "name": "stdout",
     "output_type": "stream",
     "text": [
      "Your choice:\n",
      "ok done!!\n"
     ]
    }
   ],
   "source": [
    "r = sr.Recognizer()\n",
    "with sr.Microphone() as source:\n",
    "    print (\"Your choice:\")\n",
    "    audio=r.listen(source)\n",
    "    print (\"ok done!!\")\n",
    "    engine.say(\"ok done\")\n",
    "    engine.runAndWait()\n",
    "\n"
   ]
  },
  {
   "cell_type": "code",
   "execution_count": 38,
   "metadata": {},
   "outputs": [
    {
     "name": "stdout",
     "output_type": "stream",
     "text": [
      "result2:\n",
      "{   'alternative': [   {'confidence': 0.6686461, 'transcript': 'option 2'},\n",
      "                       {'transcript': 'option to'},\n",
      "                       {'transcript': 'option two'},\n",
      "                       {'transcript': 'option Tu'},\n",
      "                       {'transcript': 'action to'}],\n",
      "    'final': True}\n",
      "You said : option 2\n"
     ]
    }
   ],
   "source": [
    "try:\n",
    "    text=r.recognize_google(audio)\n",
    "    print (\"You said : \"+text)\n",
    "    engine.say(\"You said : \"+text)\n",
    "    engine.runAndWait()\n",
    "    engine.say(\"say yes to continue or say no to go back\")\n",
    "    engine.runAndWait()\n",
    "    \n",
    "except sr.UnknownValueError:\n",
    "    print(\"Google Speech Recognition could not understand audio.\")\n",
    "     \n",
    "except sr.RequestError as e:\n",
    "    print(\"Could not request results from Google Speech Recognition service; {0}\".format(e)) "
   ]
  },
  {
   "cell_type": "code",
   "execution_count": 39,
   "metadata": {},
   "outputs": [],
   "source": [
    "#choices details\n",
    "if text == '1' or text == 'One' or text == 'one' or text == 'option one'or text == 'first option':\n",
    "    r = sr.Recognizer() #recognize\n",
    "    with sr.Microphone() as source:\n",
    "        print (\"Your message :\")\n",
    "        audio=r.listen(source)\n",
    "        print (\"ok done!!\")\n",
    "        \n",
    "        \n",
    "    try:\n",
    "        text1=r.recognize_google(audio)\n",
    "        print (\"You said : \"+text1)\n",
    "        msg = text1\n",
    "        engine.say(\"You said : \"+msg)\n",
    "        engine.runAndWait()\n",
    "    except sr.UnknownValueError:\n",
    "        print(\"Google Speech Recognition could not understand audio.\")\n",
    "        engine.say(\"Google Speech Recognition could not understand audio.\")\n",
    "        engine.runAndWait()\n",
    "    except sr.RequestError as e:\n",
    "        print(\"Could not request results from Google Speech Recognition service; {0}\".format(e))  "
   ]
  },
  {
   "cell_type": "code",
   "execution_count": 34,
   "metadata": {},
   "outputs": [
    {
     "ename": "SMTPAuthenticationError",
     "evalue": "(535, b'5.7.8 Username and Password not accepted. Learn more at\\n5.7.8  https://support.google.com/mail/?p=BadCredentials jn18-20020a170903051200b00189393ab02csm2775638plb.99 - gsmtp')",
     "output_type": "error",
     "traceback": [
      "\u001b[1;31m---------------------------------------------------------------------------\u001b[0m",
      "\u001b[1;31mSMTPAuthenticationError\u001b[0m                   Traceback (most recent call last)",
      "Input \u001b[1;32mIn [34]\u001b[0m, in \u001b[0;36m<cell line: 4>\u001b[1;34m()\u001b[0m\n\u001b[0;32m      2\u001b[0m mail\u001b[38;5;241m.\u001b[39mehlo()  \u001b[38;5;66;03m#Hostname to send for this command defaults to the FQDN of the local host.\u001b[39;00m\n\u001b[0;32m      3\u001b[0m mail\u001b[38;5;241m.\u001b[39mstarttls() \u001b[38;5;66;03m#security connection\u001b[39;00m\n\u001b[1;32m----> 4\u001b[0m \u001b[43mmail\u001b[49m\u001b[38;5;241;43m.\u001b[39;49m\u001b[43mlogin\u001b[49m\u001b[43m(\u001b[49m\u001b[38;5;124;43m'\u001b[39;49m\u001b[38;5;124;43mlakshmananrenga0@gmail.com\u001b[39;49m\u001b[38;5;124;43m'\u001b[39;49m\u001b[43m,\u001b[49m\u001b[38;5;124;43m'\u001b[39;49m\u001b[38;5;124;43mRenga20022003\u001b[39;49m\u001b[38;5;124;43m'\u001b[39;49m\u001b[43m)\u001b[49m \u001b[38;5;66;03m#login part\u001b[39;00m\n\u001b[0;32m      5\u001b[0m mail\u001b[38;5;241m.\u001b[39msendmail(\u001b[38;5;124m'\u001b[39m\u001b[38;5;124memailID\u001b[39m\u001b[38;5;124m'\u001b[39m,\u001b[38;5;124m'\u001b[39m\u001b[38;5;124mvictimID\u001b[39m\u001b[38;5;124m'\u001b[39m,msg) \u001b[38;5;66;03m#send part\u001b[39;00m\n\u001b[0;32m      6\u001b[0m \u001b[38;5;28mprint\u001b[39m (\u001b[38;5;124m\"\u001b[39m\u001b[38;5;124mCongrates! Your mail has send. \u001b[39m\u001b[38;5;124m\"\u001b[39m)\n",
      "File \u001b[1;32m~\\anaconda3\\lib\\smtplib.py:750\u001b[0m, in \u001b[0;36mSMTP.login\u001b[1;34m(self, user, password, initial_response_ok)\u001b[0m\n\u001b[0;32m    747\u001b[0m         last_exception \u001b[38;5;241m=\u001b[39m e\n\u001b[0;32m    749\u001b[0m \u001b[38;5;66;03m# We could not login successfully.  Return result of last attempt.\u001b[39;00m\n\u001b[1;32m--> 750\u001b[0m \u001b[38;5;28;01mraise\u001b[39;00m last_exception\n",
      "File \u001b[1;32m~\\anaconda3\\lib\\smtplib.py:739\u001b[0m, in \u001b[0;36mSMTP.login\u001b[1;34m(self, user, password, initial_response_ok)\u001b[0m\n\u001b[0;32m    737\u001b[0m method_name \u001b[38;5;241m=\u001b[39m \u001b[38;5;124m'\u001b[39m\u001b[38;5;124mauth_\u001b[39m\u001b[38;5;124m'\u001b[39m \u001b[38;5;241m+\u001b[39m authmethod\u001b[38;5;241m.\u001b[39mlower()\u001b[38;5;241m.\u001b[39mreplace(\u001b[38;5;124m'\u001b[39m\u001b[38;5;124m-\u001b[39m\u001b[38;5;124m'\u001b[39m, \u001b[38;5;124m'\u001b[39m\u001b[38;5;124m_\u001b[39m\u001b[38;5;124m'\u001b[39m)\n\u001b[0;32m    738\u001b[0m \u001b[38;5;28;01mtry\u001b[39;00m:\n\u001b[1;32m--> 739\u001b[0m     (code, resp) \u001b[38;5;241m=\u001b[39m \u001b[38;5;28;43mself\u001b[39;49m\u001b[38;5;241;43m.\u001b[39;49m\u001b[43mauth\u001b[49m\u001b[43m(\u001b[49m\n\u001b[0;32m    740\u001b[0m \u001b[43m        \u001b[49m\u001b[43mauthmethod\u001b[49m\u001b[43m,\u001b[49m\u001b[43m \u001b[49m\u001b[38;5;28;43mgetattr\u001b[39;49m\u001b[43m(\u001b[49m\u001b[38;5;28;43mself\u001b[39;49m\u001b[43m,\u001b[49m\u001b[43m \u001b[49m\u001b[43mmethod_name\u001b[49m\u001b[43m)\u001b[49m\u001b[43m,\u001b[49m\n\u001b[0;32m    741\u001b[0m \u001b[43m        \u001b[49m\u001b[43minitial_response_ok\u001b[49m\u001b[38;5;241;43m=\u001b[39;49m\u001b[43minitial_response_ok\u001b[49m\u001b[43m)\u001b[49m\n\u001b[0;32m    742\u001b[0m     \u001b[38;5;66;03m# 235 == 'Authentication successful'\u001b[39;00m\n\u001b[0;32m    743\u001b[0m     \u001b[38;5;66;03m# 503 == 'Error: already authenticated'\u001b[39;00m\n\u001b[0;32m    744\u001b[0m     \u001b[38;5;28;01mif\u001b[39;00m code \u001b[38;5;129;01min\u001b[39;00m (\u001b[38;5;241m235\u001b[39m, \u001b[38;5;241m503\u001b[39m):\n",
      "File \u001b[1;32m~\\anaconda3\\lib\\smtplib.py:662\u001b[0m, in \u001b[0;36mSMTP.auth\u001b[1;34m(self, mechanism, authobject, initial_response_ok)\u001b[0m\n\u001b[0;32m    660\u001b[0m \u001b[38;5;28;01mif\u001b[39;00m code \u001b[38;5;129;01min\u001b[39;00m (\u001b[38;5;241m235\u001b[39m, \u001b[38;5;241m503\u001b[39m):\n\u001b[0;32m    661\u001b[0m     \u001b[38;5;28;01mreturn\u001b[39;00m (code, resp)\n\u001b[1;32m--> 662\u001b[0m \u001b[38;5;28;01mraise\u001b[39;00m SMTPAuthenticationError(code, resp)\n",
      "\u001b[1;31mSMTPAuthenticationError\u001b[0m: (535, b'5.7.8 Username and Password not accepted. Learn more at\\n5.7.8  https://support.google.com/mail/?p=BadCredentials jn18-20020a170903051200b00189393ab02csm2775638plb.99 - gsmtp')"
     ]
    }
   ],
   "source": [
    "mail = smtplib.SMTP('smtp.gmail.com',587)    #host and port area\n",
    "mail.ehlo()  #Hostname to send for this command defaults to the FQDN of the local host.\n",
    "mail.starttls() #security connection\n",
    "mail.login('lakshmananrenga0@gmail.com','Renga20022003') #login part\n",
    "mail.sendmail('emailID','victimID',msg) #send part\n",
    "print (\"Congrates! Your mail has send. \")\n",
    "\n",
    "tts = gTTS(text=\"Congrates! Your mail has send. \", lang='en')\n",
    "ttsname=(\"send.mp3\")\n",
    "\n",
    "music = pyglet.media.load(ttsname, streaming = False)\n",
    "music.play()\n",
    "\n",
    "time.sleep(music.duration)\n",
    "os.remove(ttsname)\n",
    "mail.close()   "
   ]
  },
  {
   "cell_type": "code",
   "execution_count": null,
   "metadata": {},
   "outputs": [],
   "source": []
  }
 ],
 "metadata": {
  "kernelspec": {
   "display_name": "Python 3 (ipykernel)",
   "language": "python",
   "name": "python3"
  },
  "language_info": {
   "codemirror_mode": {
    "name": "ipython",
    "version": 3
   },
   "file_extension": ".py",
   "mimetype": "text/x-python",
   "name": "python",
   "nbconvert_exporter": "python",
   "pygments_lexer": "ipython3",
   "version": "3.9.12"
  }
 },
 "nbformat": 4,
 "nbformat_minor": 4
}
